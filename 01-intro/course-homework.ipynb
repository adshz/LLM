{
 "cells": [
  {
   "cell_type": "code",
   "execution_count": 21,
   "id": "b73c3fb4-b1b8-48f8-a2d4-dbbbbe9dc6a6",
   "metadata": {},
   "outputs": [],
   "source": [
    "import openai"
   ]
  },
  {
   "cell_type": "code",
   "execution_count": 28,
   "id": "8d5b4d62-f0d4-4a66-ae6f-7dc9231fb514",
   "metadata": {},
   "outputs": [],
   "source": [
    "from openai import OpenAI\n",
    "import getpass\n",
    "import os"
   ]
  },
  {
   "cell_type": "code",
   "execution_count": 35,
   "id": "a641bdca-45c4-4859-b8be-da4a2ec72336",
   "metadata": {},
   "outputs": [
    {
     "name": "stdin",
     "output_type": "stream",
     "text": [
      "Enter your OpenAI Key:  ········\n"
     ]
    }
   ],
   "source": [
    "# To prompt for a password\n",
    "api_key = getpass.getpass(prompt=\"Enter your OpenAI Key: \")"
   ]
  },
  {
   "cell_type": "code",
   "execution_count": 36,
   "id": "8315b350-98e6-43f5-b3ca-a3ebfa0213ba",
   "metadata": {},
   "outputs": [],
   "source": [
    "client = OpenAI(api_key=api_key);"
   ]
  },
  {
   "cell_type": "code",
   "execution_count": 25,
   "id": "057396b5-68cc-48a6-a102-a3030b9e5ca2",
   "metadata": {},
   "outputs": [],
   "source": [
    "#os.environ"
   ]
  },
  {
   "cell_type": "code",
   "execution_count": 37,
   "id": "53a989b0-f5e7-4777-b00d-febe0f1ed6b9",
   "metadata": {},
   "outputs": [],
   "source": [
    "content = '''\n",
    "Questions: What cat breed should I try as a first time pet cat? I am looking for a cat that is a friendly, socialable and loving \n",
    "because I am catsitting for a friend and I realised Her cat is quite shy and the cat hid herself all the time.\n",
    "As a programmer, I often want a cat to come at me and I typically want a cat to always need my attention and come to me to pad me.\n",
    "Google A.I told me about these cats as follows:\n",
    "Ragdoll, Siamese, Sphynx, Burmese, Scottish Fold, Persian, Chartreux, and Exotic Shorthair.\n",
    "But I have no ideas. Is there any way you can rank them in orders?\n",
    "\n",
    "'''"
   ]
  },
  {
   "cell_type": "code",
   "execution_count": 38,
   "id": "66e368cd-54c3-4484-94f6-7f677e6f6b0b",
   "metadata": {},
   "outputs": [],
   "source": [
    "response = client.chat.completions.create(\n",
    "    model='gpt-4o-mini',\n",
    "    messages=[{'role':'user', 'content': content}]\n",
    "    \n",
    ")"
   ]
  },
  {
   "cell_type": "code",
   "execution_count": 45,
   "id": "6a8e6665-9721-401c-bc5d-16d9afbc4a54",
   "metadata": {},
   "outputs": [
    {
     "data": {
      "text/plain": [
       "\"Sure! Here’s a ranking of the cat breeds you mentioned based on their sociability, friendliness, and affection levels, which seem to align with your specific needs. Keep in mind that individual cats have unique personalities, but generally speaking:\\n\\n1. **Ragdoll**: Ragdolls are known for their gentle, affectionate nature. They often follow their owners around and enjoy being held and cuddled. They're usually very tolerant and sociable, making them great companions.\\n\\n2. **Siamese**: Siamese cats are very vocal and social. They tend to form strong bonds with their owners and often seek out attention. They're playful and curious, making them engaging and interactive pets.\\n\\n3. **Burmese**: Similar to Siamese cats, Burmese are known for their friendly and affectionate personalities. They enjoy being involved in family activities and typically love attention.\\n\\n4. **Sphynx**: This breed is notable for their lack of fur, but they make up for it with their outgoing and affectionate nature. Sphynx cats thrive on human interaction and enjoy cuddling and being around people.\\n\\n5. **Scottish Fold**: While they're known for their distinctive folded ears, Scottish Folds are also friendly and loving. They enjoy companionship and are generally good with children and other pets.\\n\\n6. **Exotic Shorthair**: This breed is similar to the Persian but with a short coat. They're known for being calm and affectionate, enjoying their owners’ company without being overly demanding.\\n\\n7. **Persian**: Persians are known for their laid-back demeanor and can be affectionate, but they may not be as social as some others on this list. They can be a bit more independent, so it's important to engage with them regularly.\\n\\n8. **Chartreux**: While they are known to be gentle and affectionate, Chartreux cats can be a bit more reserved compared to the other breeds listed. They may not be as eager to seek attention, preferring a more mellow interaction.\\n\\nUltimately, the best breed for you also depends on the individual cat's personality. It can be helpful to visit shelters or meet cats in person to find one that matches your desired level of sociability and affection. Good luck in finding your new feline friend!\""
      ]
     },
     "execution_count": 45,
     "metadata": {},
     "output_type": "execute_result"
    }
   ],
   "source": [
    "response.choices[0].message.content"
   ]
  },
  {
   "cell_type": "code",
   "execution_count": null,
   "id": "fd073a26-5c45-41ff-807b-c845f4cd1396",
   "metadata": {},
   "outputs": [],
   "source": []
  }
 ],
 "metadata": {
  "kernelspec": {
   "display_name": "Python 3 (ipykernel)",
   "language": "python",
   "name": "python3"
  },
  "language_info": {
   "codemirror_mode": {
    "name": "ipython",
    "version": 3
   },
   "file_extension": ".py",
   "mimetype": "text/x-python",
   "name": "python",
   "nbconvert_exporter": "python",
   "pygments_lexer": "ipython3",
   "version": "3.12.1"
  }
 },
 "nbformat": 4,
 "nbformat_minor": 5
}
